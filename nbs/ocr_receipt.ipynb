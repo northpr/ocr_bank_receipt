{
 "cells": [
  {
   "cell_type": "code",
   "execution_count": 5,
   "metadata": {},
   "outputs": [],
   "source": [
    "#default_exp ocr_receipt"
   ]
  },
  {
   "cell_type": "code",
   "execution_count": 21,
   "metadata": {},
   "outputs": [],
   "source": [
    "#export\n",
    "import io\n",
    "import os\n",
    "from google.cloud import vision\n",
    "from datetime import datetime\n",
    "import argparse\n",
    "from helper import perform_ocr, find_img\n",
    "import re"
   ]
  },
  {
   "cell_type": "code",
   "execution_count": 7,
   "metadata": {},
   "outputs": [],
   "source": [
    "#export\n",
    "def parse_args():\n",
    "    parser = argparse.ArgumentParser(description=\"OCR image processing\")\n",
    "    group = parser.add_mutually_exclusive_group(required=True)\n",
    "    group.add_argument(\"-r\", \"--random\", action=\"store_true\", help=\"Select a random image\")\n",
    "    group.add_argument(\"-p\", \"--path\", type=str, help=\"Specify the path of the image\")\n",
    "    parser.add_argument(\"-q\", \"--quiet\", action=\"store_true\", help=\"Suppress the output\")\n",
    "    return parser.parse_args()"
   ]
  },
  {
   "cell_type": "code",
   "execution_count": 9,
   "metadata": {},
   "outputs": [],
   "source": [
    "#export\n",
    "def main():\n",
    "    args = parse_args()\n",
    "    client = vision.ImageAnnotatorClient()\n",
    "    #  Argparse\n",
    "    if args.random:\n",
    "        img_path = find_img(rand_dir=\"../data\")\n",
    "    else:\n",
    "        img_path = find_img(rand_dir=\"../data\", spec_img_path=args.path)\n",
    "    if not img_path:\n",
    "        print(\"Image not found. Please check the specified path.\")\n",
    "        return"
   ]
  },
  {
   "cell_type": "code",
   "execution_count": 14,
   "metadata": {},
   "outputs": [
    {
     "name": "stdout",
     "output_type": "stream",
     "text": [
      "../data/kbank5.jpg\n"
     ]
    }
   ],
   "source": [
    "os.environ['GOOGLE_APPLICATION_CREDENTIALS'] = '../g_credential.json'\n",
    "client = vision.ImageAnnotatorClient()"
   ]
  },
  {
   "cell_type": "code",
   "execution_count": 60,
   "metadata": {},
   "outputs": [],
   "source": [
    "def extract_full_name(ocr_results: str):\n",
    "    pattern = r'(นาย ?(?:[\\u0E00-\\u0E7F ]+)|นางสาว ?(?:[\\u0E00-\\u0E7F ]+)|น\\.ส\\. ?(?:[\\u0E00-\\u0E7F ]+)|นาง ?(?:[\\u0E00-\\u0E7F ]+))'\n",
    "    full_name = re.findall(pattern, ocr_results)\n",
    "    return full_name[0] if len(full_name) > 0 else None\n",
    "\n",
    "def extractor(text):\n",
    "    money_regex = re.compile(r'(?:\\d{1,3}(?:,\\d{3})*|\\d+)(?:\\.\\d{2})?\\s(?:บาท|Baht)', re.IGNORECASE)\n",
    "    account_regex = re.compile(r'[Xx]+[-\\s]?[\\dXx]+[-\\s]?[\\dXx]+[-\\s]?[\\dXx]+', re.IGNORECASE)\n",
    "    transaction_id_regex = re.compile(r'\\d{12}[A-Za-z]{3}\\d{5}', re.IGNORECASE)\n",
    "    \n",
    "    sender = extract_full_name(text)\n",
    "    money = money_regex.search(text)\n",
    "    account = account_regex.search(text)\n",
    "    transaction_id = transaction_id_regex.search(text)\n",
    "\n",
    "    return {\n",
    "        'sender': sender,\n",
    "        'money': money.group() if money else None,\n",
    "        'account': account.group() if account else None,\n",
    "        'transaction_id': transaction_id.group() if transaction_id else None\n",
    "    }"
   ]
  },
  {
   "cell_type": "code",
   "execution_count": 61,
   "metadata": {},
   "outputs": [
    {
     "name": "stdout",
     "output_type": "stream",
     "text": [
      "PATH: ../data/kbank7.jpg\n",
      "--------\n",
      "TEXT:\n",
      "โอนเงินสําเร็จ\n",
      "9 เม.ย. 66 20:51 น.\n",
      "นาง สุธิดา ร\n",
      "ธ.กสิกรไทย\n",
      "XXX-X-x3205-x\n",
      "เลขที่รายการ:\n",
      "จำนวน:\n",
      "นาย ปฐวี รัตนเรืองวัฒนา\n",
      "ธ.กสิกรไทย\n",
      "xxx-x-x0738-x\n",
      "013099205128ATF02635\n",
      "300.00 บาท\n",
      "ค่าธรรมเนียม:\n",
      "0.00 บาท\n",
      "I+\n",
      "บันทึกช่วยจํา: ค่าข้าว\n",
      "สแกนตรวจสอบสลิป\n",
      "--------\n",
      "EXTRACT TEXT:\n",
      "{'sender': 'นาง สุธิดา ร', 'money': '300.00 บาท', 'account': 'XXX-X-x3205-x', 'transaction_id': '013099205128ATF02635'}\n"
     ]
    }
   ],
   "source": [
    "img_path = find_img(rand_dir=\"../data\")\n",
    "print(f\"PATH: {img_path}\")\n",
    "print(\"--------\")\n",
    "with io.open(img_path, \"rb\") as image_file:\n",
    "    content = image_file.read()\n",
    "texts = perform_ocr(client, content)\n",
    "text = texts[0].description\n",
    "print(f\"TEXT:\\n{text}\")\n",
    "print(\"--------\")\n",
    "extract_text = extractor(text)\n",
    "print(f\"EXTRACT TEXT:\\n{extract_text}\")"
   ]
  },
  {
   "cell_type": "code",
   "execution_count": null,
   "metadata": {},
   "outputs": [],
   "source": []
  }
 ],
 "metadata": {
  "kernelspec": {
   "display_name": "ocr_bank_receipt",
   "language": "python",
   "name": "python3"
  },
  "language_info": {
   "codemirror_mode": {
    "name": "ipython",
    "version": 3
   },
   "file_extension": ".py",
   "mimetype": "text/x-python",
   "name": "python",
   "nbconvert_exporter": "python",
   "pygments_lexer": "ipython3",
   "version": "3.11.3"
  }
 },
 "nbformat": 4,
 "nbformat_minor": 2
}
