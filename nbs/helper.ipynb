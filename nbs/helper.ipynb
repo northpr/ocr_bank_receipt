{
 "cells": [
  {
   "cell_type": "code",
   "execution_count": null,
   "metadata": {},
   "outputs": [],
   "source": [
    "#default_exp helper"
   ]
  },
  {
   "cell_type": "code",
   "execution_count": null,
   "metadata": {},
   "outputs": [],
   "source": [
    "#export\n",
    "import io\n",
    "import os\n",
    "import re\n",
    "import random\n",
    "from datetime import datetime\n",
    "from google.cloud import vision"
   ]
  },
  {
   "cell_type": "code",
   "execution_count": null,
   "metadata": {},
   "outputs": [],
   "source": [
    "#export\n",
    "def perform_ocr(client, image_file):\n",
    "    with io.BytesIO(image_file) as image_bin:\n",
    "        content = image_bin.read()\n",
    "    image = vision.Image(content=content)\n",
    "    response = client.text_detection(image=image)\n",
    "    texts = response.text_annotations\n",
    "    return texts\n",
    "\n",
    "def find_img(rand_dir: str, spec_img_path=None)-> str:\n",
    "    \"\"\"\n",
    "    Getting an image randomly or by specific path.\n",
    "\n",
    "    Args:\n",
    "        directory (str): directory\n",
    "        specific_image_path (_type_, optional): _description_. Defaults to None.\n",
    "\n",
    "    Returns:\n",
    "        str: _description_\n",
    "    \"\"\"\n",
    "    if spec_img_path:\n",
    "        return spec_img_path\n",
    "    # Search for all .jpg files in the specified directory and its subdirectories\n",
    "    image_files = []\n",
    "    for root, dirs, files in os.walk(rand_dir):\n",
    "        for file in files:\n",
    "            if file.lower().endswith('.jpg'):\n",
    "                image_files.append(os.path.join(root, file))\n",
    "\n",
    "    # If there are no image files, return None\n",
    "    if not image_files:\n",
    "        return None\n",
    "\n",
    "    # Pick a random image file from the list of image files found, and return its path\n",
    "    random_image_path = random.choice(image_files)\n",
    "    return random_image_path"
   ]
  },
  {
   "cell_type": "code",
   "execution_count": null,
   "metadata": {},
   "outputs": [],
   "source": []
  }
 ],
 "metadata": {
  "kernelspec": {
   "display_name": "ocr_bank_receipt",
   "language": "python",
   "name": "python3"
  }
 },
 "nbformat": 4,
 "nbformat_minor": 2
}
